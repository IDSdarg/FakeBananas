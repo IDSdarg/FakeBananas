{
 "cells": [
  {
   "cell_type": "code",
   "execution_count": 29,
   "metadata": {},
   "outputs": [
    {
     "name": "stdout",
     "output_type": "stream",
     "text": [
      "['Trump rally organizers', 'President Donald Trump', 'President Vladimir Putin', 'small anti-Trump protest', 'stark political divisions', 'diverse political demonstrations', 'overtly violent gangs', 'rap group Insane']\n"
     ]
    }
   ],
   "source": [
    "import json\n",
    "from watson_developer_cloud import NaturalLanguageUnderstandingV1\n",
    "import watson_developer_cloud.natural_language_understanding.features.v1 \\\n",
    "  as Features\n",
    "\n",
    "def watson(url):\n",
    "    natural_language_understanding = NaturalLanguageUnderstandingV1(\n",
    "      username=\"09b56387-57ee-4390-9365-a07a37706fb4\",\n",
    "      password=\"ISoTe5EueZJp\",\n",
    "      version=\"2017-02-27\")\n",
    "\n",
    "    response = natural_language_understanding.analyze(\n",
    "      url=url,\n",
    "      features=[\n",
    "        Features.Keywords(\n",
    "          emotion=False,\n",
    "          sentiment=False,\n",
    "            limit=15\n",
    "        )\n",
    "      ]\n",
    "    )\n",
    "    keywords = []\n",
    "    for keyword in response['keywords']:\n",
    "        if keyword['relevance'] > 0.80 and len(keywords) < 8:\n",
    "            keywords.append(keyword['text'].encode('utf-8'))\n",
    "    return keywords\n",
    "\n",
    "url = 'http://abcnews.go.com/Politics/wireStory/trump-supporters-critics-juggalos-descend-washington-49891059?cid=clicksource_4380645_1_hero_headlines_headlines_hed'\n",
    "print watson(url)"
   ]
  }
 ],
 "metadata": {
  "kernelspec": {
   "display_name": "Python 2",
   "language": "python",
   "name": "python2"
  },
  "language_info": {
   "codemirror_mode": {
    "name": "ipython",
    "version": 2
   },
   "file_extension": ".py",
   "mimetype": "text/x-python",
   "name": "python",
   "nbconvert_exporter": "python",
   "pygments_lexer": "ipython2",
   "version": "2.7.13"
  }
 },
 "nbformat": 4,
 "nbformat_minor": 2
}
