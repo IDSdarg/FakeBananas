{
 "cells": [
  {
   "cell_type": "code",
   "execution_count": null,
   "metadata": {
    "collapsed": true
   },
   "outputs": [],
   "source": [
    "GET https://api.cognitive.microsoft.com/bing/v5.0/spellcheck?mode=proof&mkt=en-us HTTP/1.1  \n",
    "Content-Type: application/x-www-form-urlencoded  \n",
    "Content-Length: 47  \n",
    "Ocp-Apim-Subscription-Key: 123456789ABCDE  \n",
    "X-MSEdge-ClientIP: 999.999.999.999  \n",
    "X-Search-Location: lat:47.60357;long:-122.3295;re:100  \n",
    "X-MSEdge-ClientID: <blobFromPriorResponseGoesHere>  \n",
    "Host: api.cognitive.microsoft.com  \n",
    "\n",
    "text=when+its+your+turn+turn,+john,+come+runing  "
   ]
  }
 ],
 "metadata": {
  "kernelspec": {
   "display_name": "Python 2",
   "language": "python",
   "name": "python2"
  },
  "language_info": {
   "codemirror_mode": {
    "name": "ipython",
    "version": 2
   },
   "file_extension": ".py",
   "mimetype": "text/x-python",
   "name": "python",
   "nbconvert_exporter": "python",
   "pygments_lexer": "ipython2",
   "version": "2.7.13"
  }
 },
 "nbformat": 4,
 "nbformat_minor": 2
}
