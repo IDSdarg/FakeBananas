{
 "cells": [
  {
   "cell_type": "code",
   "execution_count": null,
   "metadata": {
    "scrolled": true
   },
   "outputs": [
    {
     "name": "stdout",
     "output_type": "stream",
     "text": [
      "using user provided API key for making requests\n",
      "Event Registry host: http://eventregistry.org\n"
     ]
    }
   ],
   "source": [
    "from eventregistry import *\n",
    "import numpy as np\n",
    "import pandas as pd\n",
    "import random\n",
    "\n",
    "# Print a list of recently added articles mentioning entered words\n",
    "api_key = 'eda39267-9017-481a-860d-0b565c6d8bf3'\n",
    "er = EventRegistry(apiKey = api_key)\n",
    "\n",
    "def get_articles(keywords): \n",
    "    q = QueryArticlesIter(keywords=QueryItems.AND(keywords))\n",
    "    \n",
    "    x = 0\n",
    "    df = pd.DataFrame({'source':'test','url':'testing','text':'placeholers'}, index=[0])\n",
    "    df.columns = ['source','url','text']\n",
    "    \n",
    "    for article in q.execQuery(er, sortBy = 'date'):\n",
    "        data = {\n",
    "            'source': article['source']['title'].encode('utf-8'),\n",
    "#             'title' : article['title'].encode('utf-8'),\n",
    "            'url' : article['url'].encode('utf-8'),\n",
    "            'text' : article['body'].encode('utf-8')\n",
    "        }\n",
    "        df_temp = pd.DataFrame(data,index=[x])\n",
    "        df = pd.concat([df,df_temp])\n",
    "        x += 1\n",
    "    return df\n",
    "\n",
    "def get_search_params(keywords):\n",
    "    search_params = []\n",
    "    while len(keywords) != 0:\n",
    "        # Randomly select 3 words\n",
    "        rm = random.sample(keywords,3)\n",
    "        # add the list of 3 words to the searchable list\n",
    "        search_params.append(rm)\n",
    "        # remove words from the list\n",
    "        for word in rm:\n",
    "            keywords.remove(word)\n",
    "\n",
    "        # put 1 or 2 random words back\n",
    "        # if 3 words left just append to search_params\n",
    "        if len(keywords) is 3:\n",
    "            search_params.append(keywords)\n",
    "            keywords = []\n",
    "        # if no words left just exit\n",
    "        elif len(keywords) is 0:\n",
    "            keywords = []\n",
    "        # if 1 word left, append 2 and search_params\n",
    "        elif len(keywords) is 1:\n",
    "            keywords.append(random.sample(rm,2)[0:2])\n",
    "        else:\n",
    "            keywords.append(random.sample(rm,1)[0])\n",
    "    return search_params\n",
    "\n",
    "from newspaper import Article\n",
    "\n",
    "def get_keywords(user_url):\n",
    "    url = user_url.decode('utf-8')\n",
    "    article = Article(url)\n",
    "    article.download()\n",
    "    article.parse()\n",
    "    article.nlp()\n",
    "\n",
    "    keywords = article.keywords\n",
    "    kl = []\n",
    "    for word in keywords:\n",
    "        kl.append(word.encode('utf-8'))\n",
    "    return kl\n",
    "\n",
    "def main():\n",
    "    url = 'http://abcnews.go.com/US/wireStory/hurricanes-teach-us-ap-finds-fast-coastal-growth-49893843'\n",
    "    kl = get_keywords(url)\n",
    "    params = get_search_params(kl)\n",
    "\n",
    "    df = pd.DataFrame({'source':'test','url':'testing','text':'placeholers'}, index=[0])\n",
    "    df.columns = ['source','url','text']\n",
    "\n",
    "    for query in params:\n",
    "        df = pd.concat([df,get_articles(query)])\n",
    "\n",
    "    df = df.drop(df.index[[0,1]])\n",
    "    df = df.reset_index(drop=True)\n",
    "#     df.to_json(orient='index')\n",
    "    df.to_csv('articles.csv')\n",
    "    print df\n",
    "    \n",
    "main()"
   ]
  },
  {
   "cell_type": "code",
   "execution_count": 8,
   "metadata": {
    "collapsed": true
   },
   "outputs": [],
   "source": [
    "df1 = pd.read_csv('articles.csv')\n",
    "df1.columns = ['id','source','text',\"\"\"'title\"\"\" 'url']\n",
    "\n",
    "bodies = df1.loc[:,['id','text']]\n",
    "bodies.to_csv('bodies.csv')\n",
    "\n",
    "# we want claim here, not title\n",
    "headlines = df1.loc[:,['id','title']]\n",
    "headlines.to_csv('headlines.csv')\n",
    "\n",
    "urls = df1.loc[:,['id','source','url']]\n",
    "urls.to_csv('url.csv')"
   ]
  }
 ],
 "metadata": {
  "kernelspec": {
   "display_name": "Python 2",
   "language": "python",
   "name": "python2"
  },
  "language_info": {
   "codemirror_mode": {
    "name": "ipython",
    "version": 2
   },
   "file_extension": ".py",
   "mimetype": "text/x-python",
   "name": "python",
   "nbconvert_exporter": "python",
   "pygments_lexer": "ipython2",
   "version": "2.7.13"
  }
 },
 "nbformat": 4,
 "nbformat_minor": 2
}
