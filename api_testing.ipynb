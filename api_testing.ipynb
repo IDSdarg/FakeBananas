{
 "cells": [
  {
   "cell_type": "code",
   "execution_count": 6,
   "metadata": {},
   "outputs": [
    {
     "name": "stdout",
     "output_type": "stream",
     "text": [
      "{u'usage': {u'text_characters': 43, u'features': 1, u'text_units': 1}, u'keywords': [{u'relevance': 0.90279, u'text': u'junk food', u'sentiment': {u'score': -0.779874}}, {u'relevance': 0.766517, u'text': u'Big business', u'sentiment': {u'score': -0.779874}}, {u'relevance': 0.52341, u'text': u'Brazil', u'sentiment': {u'score': -0.779874}}], u'language': u'en'}\n",
      "['junk food']\n"
     ]
    }
   ],
   "source": [
    "import json\n",
    "from watson_developer_cloud import NaturalLanguageUnderstandingV1\n",
    "import watson_developer_cloud.natural_language_understanding.features.v1 \\\n",
    "  as Features\n",
    "\n",
    "def watson(claim):\n",
    "    natural_language_understanding = NaturalLanguageUnderstandingV1(\n",
    "      username=\"09b56387-57ee-4390-9365-a07a37706fb4\",\n",
    "      password=\"ISoTe5EueZJp\",\n",
    "      version=\"2017-02-27\")\n",
    "\n",
    "    response = natural_language_understanding.analyze(\n",
    "      text = claim,\n",
    "      features=[\n",
    "        Features.Keywords(\n",
    "          emotion=False,\n",
    "          sentiment=True,\n",
    "            limit=15\n",
    "        )\n",
    "      ]\n",
    "    )\n",
    "    keywords = []\n",
    "    for keyword in response['keywords']:\n",
    "        if keyword['relevance'] > 0.80 and len(keywords) < 8:\n",
    "            keywords.append(keyword['text'].encode('utf-8'))\n",
    "    print response\n",
    "    return keywords\n",
    "\n",
    "url = 'http://abcnews.go.com/Politics/wireStory/trump-supporters-critics-juggalos-descend-washington-49891059?cid=clicksource_4380645_1_hero_headlines_headlines_hed'\n",
    "claim = 'Big business got Brazil hooked on junk food'\n",
    "print watson(claim)"
   ]
  },
  {
   "cell_type": "code",
   "execution_count": 4,
   "metadata": {},
   "outputs": [
    {
     "name": "stdout",
     "output_type": "stream",
     "text": [
      "{u'usage': {u'text_characters': 43, u'features': 1, u'text_units': 1}, u'language': u'en', u'concepts': [{u'relevance': 0.885924, u'text': u'Nutrition', u'dbpedia_resource': u'http://dbpedia.org/resource/Nutrition'}, {u'relevance': 0.8188, u'text': u'Junk food', u'dbpedia_resource': u'http://dbpedia.org/resource/Junk_food'}]}\n",
      "None\n"
     ]
    }
   ],
   "source": [
    "import json\n",
    "from watson_developer_cloud import NaturalLanguageUnderstandingV1\n",
    "import watson_developer_cloud.natural_language_understanding.features.v1 \\\n",
    "  as Features\n",
    "\n",
    "def watson(claim):\n",
    "    natural_language_understanding = NaturalLanguageUnderstandingV1(\n",
    "      username=\"09b56387-57ee-4390-9365-a07a37706fb4\",\n",
    "      password=\"ISoTe5EueZJp\",\n",
    "      version=\"2017-02-27\")\n",
    "\n",
    "    response = natural_language_understanding.analyze(\n",
    "      text = claim,\n",
    "      features=[\n",
    "        Features.Concepts(\n",
    "          # Concepts options\n",
    "          limit=3\n",
    "        )\n",
    "      ]\n",
    "    )\n",
    "    print response\n",
    "\n",
    "url = 'http://abcnews.go.com/Politics/wireStory/trump-supporters-critics-juggalos-descend-washington-49891059?cid=clicksource_4380645_1_hero_headlines_headlines_hed'\n",
    "claim = 'Big business got Brazil hooked on junk food'\n",
    "print watson(claim)\n",
    "    "
   ]
  }
 ],
 "metadata": {
  "kernelspec": {
   "display_name": "Python 2",
   "language": "python",
   "name": "python2"
  },
  "language_info": {
   "codemirror_mode": {
    "name": "ipython",
    "version": 2
   },
   "file_extension": ".py",
   "mimetype": "text/x-python",
   "name": "python",
   "nbconvert_exporter": "python",
   "pygments_lexer": "ipython2",
   "version": "2.7.13"
  }
 },
 "nbformat": 4,
 "nbformat_minor": 2
}
